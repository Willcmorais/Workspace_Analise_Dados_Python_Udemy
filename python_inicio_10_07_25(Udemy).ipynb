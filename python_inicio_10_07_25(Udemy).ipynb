{
  "nbformat": 4,
  "nbformat_minor": 0,
  "metadata": {
    "colab": {
      "provenance": [],
      "authorship_tag": "ABX9TyPK+Y8pJtKRiRm45ibpjVsr",
      "include_colab_link": true
    },
    "kernelspec": {
      "name": "python3",
      "display_name": "Python 3"
    },
    "language_info": {
      "name": "python"
    }
  },
  "cells": [
    {
      "cell_type": "markdown",
      "metadata": {
        "id": "view-in-github",
        "colab_type": "text"
      },
      "source": [
        "<a href=\"https://colab.research.google.com/github/Willcmorais/Estudos-em-python/blob/main/python_inicio_10_07_25(Udemy).ipynb\" target=\"_parent\"><img src=\"https://colab.research.google.com/assets/colab-badge.svg\" alt=\"Open In Colab\"/></a>"
      ]
    },
    {
      "cell_type": "markdown",
      "source": [
        "# **ESTUDANDO PYTHON PELO CURSO PYTHON PARA ANÁLISE DE DADOS DA UDEMY**"
      ],
      "metadata": {
        "id": "BIXdOWOxUs4w"
      }
    },
    {
      "cell_type": "markdown",
      "source": [
        "1º OPERADORES MATEMÁTICOS\n",
        "\n",
        "- Linha 12: pula uma linha só com a vírgula\n",
        "\n"
      ],
      "metadata": {
        "id": "hZuUhF15U8j6"
      }
    },
    {
      "cell_type": "code",
      "execution_count": 46,
      "metadata": {
        "colab": {
          "base_uri": "https://localhost:8080/"
        },
        "id": "BLVGaGSl_vft",
        "outputId": "b6cdf25c-6697-4908-c1c7-d3fcae13f985"
      },
      "outputs": [
        {
          "output_type": "stream",
          "name": "stdout",
          "text": [
            "*----* OPERADORES MATEMÁTICOS *----*\n",
            "\n",
            "Três formas distintas de se dar o print em algum valor\n",
            "Resultado da soma: 16\n",
            "Resultado da subtração: 8\n",
            "Resultado da multiplicação: 45\n",
            "Resultado da divisão: 1.6666666666666667\n",
            "Resultado do resto da divisão: 1\n",
            "Resultado do piso da divisão: 17\n"
          ]
        }
      ],
      "source": [
        "print('*----* OPERADORES MATEMÁTICOS *----*\\n')\n",
        "\n",
        "soma = 9 + 7\n",
        "subtracao = 10 - 2\n",
        "divisao = 5 / 3\n",
        "multiplicacao = 5 * 9\n",
        "resto_divisao = 5 % 2\n",
        "piso_divisao = 85 // 5\n",
        "\n",
        "print('Três formas distintas de se dar o print em algum valor')\n",
        "print('Resultado da soma: {}'.format(soma))\n",
        "print('Resultado da subtração:',subtracao)\n",
        "print(f'Resultado da multiplicação: {multiplicacao}')\n",
        "print(f'Resultado da divisão: {divisao}')\n",
        "print('Resultado do resto da divisão:',resto_divisao)\n",
        "print('Resultado do piso da divisão: {}'.format(piso_divisao))"
      ]
    },
    {
      "cell_type": "markdown",
      "source": [
        "2º VARIÁVEIS E TIPOS DE VARIÁVEIS\n",
        "\n",
        "\n",
        "- Linha 04: O str é utilizado para que forcemos o que aparecer a ser do tipo string. Útil para quando queremos juntar números a textos."
      ],
      "metadata": {
        "id": "rz6wG-8OVBqi"
      }
    },
    {
      "cell_type": "code",
      "source": [
        "print('==== VARIÁVEIS ====\\n')\n",
        "\n",
        "var_texto = ('Qualquer coisa')\n",
        "var_int = str (2576)\n",
        "var_int1 = int (2222)\n",
        "var_float = float (2.5)\n",
        "var_bool = False\n",
        "var_bool2 = True\n",
        "\n",
        "print('Tipo da variável var_texto é livre e no momento é uma ',type(var_texto))\n",
        "print('O valor {} está sendo atribuído à variável var_int. E está sendo forçada a ser uma {} mesmo sendo um número inteiro.'.format(var_int,type(var_int)))\n",
        "print(f'A variável {var_int1} é do tipo {type(var_int1)}')\n",
        "print(f'A variável float tem o valor {var_float}. Ela é do tipo {type(var_float)}, já anteriormente especificada.')\n",
        "print(f'O usuário pagou a conta? {var_bool}')\n",
        "print(f'O usuário pagou a conta? {var_bool2}')"
      ],
      "metadata": {
        "colab": {
          "base_uri": "https://localhost:8080/"
        },
        "id": "VPuQaTZ-HZ8U",
        "outputId": "334144ec-9d20-43f0-db52-c3cc48719597"
      },
      "execution_count": 52,
      "outputs": [
        {
          "output_type": "stream",
          "name": "stdout",
          "text": [
            "==== VARIÁVEIS ====\n",
            "\n",
            "Tipo da variável var_texto é livre e no momento é uma  <class 'str'>\n",
            "O valor 2576 está sendo atribuído à variável var_int. E está sendo forçada a ser uma <class 'str'> mesmo sendo um número inteiro.\n",
            "A variável 2222 é do tipo <class 'int'>\n",
            "A variável float tem o valor 2.5. Ela é do tipo <class 'float'>, já anteriormente especificada.\n",
            "O usuário pagou a conta? False\n",
            "O usuário pagou a conta? True\n"
          ]
        }
      ]
    },
    {
      "cell_type": "markdown",
      "source": [
        "3º TIPOS DE DADOS\n",
        "\n",
        "- LISTAS: Armazenamento de sequência de dados.\n",
        "\n",
        "Linha 03: Podemos passar cadeias de valores para as listas\n",
        "\n",
        "- TUPLAS: Após criadas não podem ser mudadas"
      ],
      "metadata": {
        "id": "fAZogbEIVSnl"
      }
    },
    {
      "cell_type": "code",
      "source": [
        "print('=.=.=. TIPOS DE DADOS .=.=.=\\n')\n",
        "\n",
        "lista_ex01 = [0,1,2,3,4,5,6,7,8]\n",
        "lista_02 = ['Matheus', 'júnior', 'Adalberto', 'Mariá', 'Antônia']\n",
        "lista_03 = ['Jorge Aragão Neto', 19, 'Brasileiro', ['Maringá','Itapissuma','Guaratinguetá'], 'Solteiro', 1555.48, True]\n",
        "\n",
        "print('- MOSTRANDO AS LISTAS:\\n')\n",
        "\n",
        "print('Lista 01:',lista_ex01,'\\n')\n",
        "print('Lista 02: {}'.format(lista_02),'\\n')\n",
        "print('Lista 03:\\n Nome: {}\\n Idade: {}\\n Nacionalidade: {}\\n Residiu em: {}\\n Estado Civil: {}\\n Salário: {}\\n Pagamento: {}\\n'.format(lista_03[0],lista_03[1],lista_03[2],lista_03[3],lista_03[4],lista_03[5],lista_03[6]))\n",
        "\n",
        "print('- MOSTRANDO AS TUPLAS (TUPLAS SÃO IMUTÁVEIS!!):\\n')\n",
        "\n",
        "tupla_ex01 = ('João Goulart da Silva', 38, 'Brasileiro', ('Boa vista','Itapissuma','Goiania'), 'Casado', 9800, False)\n",
        "\n",
        "print('Tupla 01:\\n Nome: {}\\n Idade: {}\\n Nacionalidade: {}\\n Residiu em: {}\\n Estado Civil: {}\\n Salário: {}\\n Pagamento: {}\\n'.format(tupla_ex01[0],tupla_ex01[1],tupla_ex01[2],tupla_ex01[3],tupla_ex01[4],tupla_ex01[5],tupla_ex01[6]))\n",
        "\n",
        "print('- MOSTRANDO OS DICIONÁRIOS:\\n')\n",
        "\n",
        "dicionario_ex01 = {\n",
        "    'index': 'valor',\n",
        "    'id': 1,\n",
        "    'nome': 'Matheus',\n",
        "    'lista': lista_03,\n",
        "    'tupla': tupla_ex01\n",
        "}\n",
        "\n",
        "print('Index: {}\\n Id: {}\\n Nome: {}\\n Lista: {}\\n Tupla: {}\\n'.format(dicionario_ex01['index'],dicionario_ex01['id'],dicionario_ex01['nome'],dicionario_ex01['lista'],dicionario_ex01['tupla']))"
      ],
      "metadata": {
        "colab": {
          "base_uri": "https://localhost:8080/"
        },
        "id": "4lrEM1CsIcIs",
        "outputId": "27c15320-3915-4cd8-8df5-0a919d20d938"
      },
      "execution_count": 154,
      "outputs": [
        {
          "output_type": "stream",
          "name": "stdout",
          "text": [
            "=.=.=. TIPOS DE DADOS .=.=.=\n",
            "\n",
            "- MOSTRANDO AS LISTAS:\n",
            "\n",
            "Lista 01: [0, 1, 2, 3, 4, 5, 6, 7, 8] \n",
            "\n",
            "Lista 02: ['Matheus', 'júnior', 'Adalberto', 'Mariá', 'Antônia'] \n",
            "\n",
            "Lista 03:\n",
            " Nome: Jorge Aragão Neto\n",
            " Idade: 19\n",
            " Nacionalidade: Brasileiro\n",
            " Residiu em: ['Maringá', 'Itapissuma', 'Guaratinguetá']\n",
            " Estado Civil: Solteiro\n",
            " Salário: 1555.48\n",
            " Pagamento: True\n",
            "\n",
            "- MOSTRANDO AS TUPLAS (TUPLAS SÃO IMUTÁVEIS!!):\n",
            "\n",
            "Tupla 01:\n",
            " Nome: João Goulart da Silva\n",
            " Idade: 38\n",
            " Nacionalidade: Brasileiro\n",
            " Residiu em: ('Boa vista', 'Itapissuma', 'Goiania')\n",
            " Estado Civil: Casado\n",
            " Salário: 9800\n",
            " Pagamento: False\n",
            "\n",
            "- MOSTRANDO OS DICIONÁRIOS:\n",
            "\n",
            "Index: valor\n",
            " Id: 1\n",
            " Nome: Matheus\n",
            " Lista: ['Jorge Aragão Neto', 19, 'Brasileiro', ['Maringá', 'Itapissuma', 'Guaratinguetá'], 'Solteiro', 1555.48, True]\n",
            " Tupla: ('João Goulart da Silva', 38, 'Brasileiro', ('Boa vista', 'Itapissuma', 'Goiania'), 'Casado', 9800, False)\n",
            "\n"
          ]
        }
      ]
    },
    {
      "cell_type": "markdown",
      "source": [
        "4º NOMEAÇÃO DE VARIÁVEIS\n",
        "\n",
        "- Linha 04: Colocando um valor distinto para cada variável.\n",
        "- Linha 08: Colocando o mesmo valor para variáveis diferentes.\n",
        "- Linha 13: Criamos uma lista e atribuímos 5 valores.\n",
        "- Linha 14: Atribuímos às 5 variáveis os valores da lista criada.\n",
        "- Linha 16: Nós chamamos a lista de acordo com a marca disponível.\n",
        "- Linha 23: Precisa ser convertido para str para mostrar"
      ],
      "metadata": {
        "id": "mwWxOZuHparT"
      }
    },
    {
      "cell_type": "code",
      "source": [
        "print('-.-.- NOMEAÇÃO DE VARIÁVEIS -.-.-\\n')\n",
        "\n",
        "print('DISPONÍVEL\\n')\n",
        "laranja, melao, limao = 32, 22, 67\n",
        "print(f' Quantidade de laranjas: {laranja}\\n Quantidade de Melões: {melao}\\n Quantidade de Limões: {limao}\\n')\n",
        "\n",
        "print('VALORES(R$/KG)\\n')\n",
        "morango = mamao = banana = 5.50\n",
        "print(' Morango(R$/KG): {}\\n Mamão(R$/KG): {}\\n Banana(R$/KG): {}\\n'.format(morango,mamao,banana))\n",
        "\n",
        "print('VALORES POR LISTAS\\n')\n",
        "\n",
        "lista_carros01 = ['VW', 'FORD', 'CITROEN', 'FIAT', 'CHEVROLET']\n",
        "marca01, marca02, marca03, marca04, marca05 = lista_carros01\n",
        "\n",
        "print('Concessionária Boa Viagem (Disponibilidade): ',marca01, marca02, marca03, marca04)\n",
        "print('Concessionária Paulista (Disponibilidade): ',marca04, marca05)\n",
        "\n",
        "print('\\nVALORES COMBINADOS DE VARIÁVEIS\\n')\n",
        "\n",
        "proprietario = 'William'\n",
        "sobrenome = 'Morais'\n",
        "idade = str(28)\n",
        "nome_completo = proprietario + ' ' + sobrenome\n",
        "\n",
        "print('Proprietário da Concessionária: ',nome_completo + ', ' + idade)"
      ],
      "metadata": {
        "colab": {
          "base_uri": "https://localhost:8080/"
        },
        "id": "V0M52QfllxBe",
        "outputId": "5f1bdf9f-88ae-4130-9972-22c149f740d1"
      },
      "execution_count": 153,
      "outputs": [
        {
          "output_type": "stream",
          "name": "stdout",
          "text": [
            "-.-.- NOMEAÇÃO DE VARIÁVEIS -.-.-\n",
            "\n",
            "DISPONÍVEL\n",
            "\n",
            " Quantidade de laranjas: 32\n",
            " Quantidade de Melões: 22\n",
            " Quantidade de Limões: 67\n",
            "\n",
            "VALORES(R$/KG)\n",
            "\n",
            " Morango(R$/KG): 5.5\n",
            " Mamão(R$/KG): 5.5\n",
            " Banana(R$/KG): 5.5\n",
            "\n",
            "VALORES POR LISTAS\n",
            "\n",
            "Concessionária Boa Viagem (Disponibilidade):  VW FORD CITROEN FIAT\n",
            "Concessionária Paulista (Disponibilidade):  FIAT CHEVROLET\n",
            "\n",
            "VALORES COMBINADOS DE VARIÁVEIS\n",
            "\n",
            "Proprietário da Concessionária:  William Morais, 28\n"
          ]
        }
      ]
    },
    {
      "cell_type": "markdown",
      "source": [
        "5º TIPO DE INFORMAÇÃO\n",
        "- Text Type: str\n",
        "---\n",
        "- Numeric Types: int, float, complex\n",
        "---\n",
        "- Sequence Types: list, tuple, range\n",
        "---\n",
        "- Mapping Type: dict\n",
        "---\n",
        "- Set Types: set, frozenset\n",
        "---\n",
        "- Boolean Type: bool\n",
        "---\n",
        "- Binary Types: bytes, bytearray, memoryview\n",
        "---\n",
        "\n",
        "\n",
        "\n",
        "\n"
      ],
      "metadata": {
        "id": "CSLhhQ9f5ufk"
      }
    },
    {
      "cell_type": "code",
      "source": [
        "frase = str ('Olá pessoal!')\n",
        "num_int = int (58)\n",
        "num_float = float (100.5)\n",
        "complexo = complex (1j)\n",
        "lista01 = list (['João', 'Maria', 'José'])\n",
        "tupla01 = tuple (('A', 'B'))\n",
        "range01 = range(6)\n",
        "dicionario = dict (nome ='William', age = 28)\n",
        "setup = set(('A', 'B', 'C'))\n",
        "frozen = frozenset(('A', 'B', 'C'))\n",
        "booleano = bool (5)\n",
        "bytes01 = bytes (5)\n",
        "byte_array = bytearray (5)\n",
        "memory_view = memoryview (bytes(5))"
      ],
      "metadata": {
        "colab": {
          "base_uri": "https://localhost:8080/",
          "height": 211
        },
        "id": "heS5mF8FqVnB",
        "outputId": "fd25c077-6ec1-42c9-b62f-6b6f6ad5a9e6"
      },
      "execution_count": 163,
      "outputs": [
        {
          "output_type": "error",
          "ename": "TypeError",
          "evalue": "'range' object is not callable",
          "traceback": [
            "\u001b[0;31m---------------------------------------------------------------------------\u001b[0m",
            "\u001b[0;31mTypeError\u001b[0m                                 Traceback (most recent call last)",
            "\u001b[0;32m/tmp/ipython-input-163-1349654427.py\u001b[0m in \u001b[0;36m<cell line: 0>\u001b[0;34m()\u001b[0m\n\u001b[1;32m      5\u001b[0m \u001b[0mlista01\u001b[0m \u001b[0;34m=\u001b[0m \u001b[0mlist\u001b[0m \u001b[0;34m(\u001b[0m\u001b[0;34m[\u001b[0m\u001b[0;34m'João'\u001b[0m\u001b[0;34m,\u001b[0m \u001b[0;34m'Maria'\u001b[0m\u001b[0;34m,\u001b[0m \u001b[0;34m'José'\u001b[0m\u001b[0;34m]\u001b[0m\u001b[0;34m)\u001b[0m\u001b[0;34m\u001b[0m\u001b[0;34m\u001b[0m\u001b[0m\n\u001b[1;32m      6\u001b[0m \u001b[0mtupla01\u001b[0m \u001b[0;34m=\u001b[0m \u001b[0mtuple\u001b[0m \u001b[0;34m(\u001b[0m\u001b[0;34m(\u001b[0m\u001b[0;34m'A'\u001b[0m\u001b[0;34m,\u001b[0m \u001b[0;34m'B'\u001b[0m\u001b[0;34m)\u001b[0m\u001b[0;34m)\u001b[0m\u001b[0;34m\u001b[0m\u001b[0;34m\u001b[0m\u001b[0m\n\u001b[0;32m----> 7\u001b[0;31m \u001b[0mrange01\u001b[0m \u001b[0;34m=\u001b[0m \u001b[0mrange\u001b[0m\u001b[0;34m(\u001b[0m\u001b[0;36m6\u001b[0m\u001b[0;34m)\u001b[0m\u001b[0;34m\u001b[0m\u001b[0;34m\u001b[0m\u001b[0m\n\u001b[0m\u001b[1;32m      8\u001b[0m \u001b[0mdicionario\u001b[0m \u001b[0;34m=\u001b[0m \u001b[0mdict\u001b[0m \u001b[0;34m(\u001b[0m\u001b[0mnome\u001b[0m \u001b[0;34m=\u001b[0m\u001b[0;34m'William'\u001b[0m\u001b[0;34m,\u001b[0m \u001b[0mage\u001b[0m \u001b[0;34m=\u001b[0m \u001b[0;36m28\u001b[0m\u001b[0;34m)\u001b[0m\u001b[0;34m\u001b[0m\u001b[0;34m\u001b[0m\u001b[0m\n\u001b[1;32m      9\u001b[0m \u001b[0msetup\u001b[0m \u001b[0;34m=\u001b[0m \u001b[0mset\u001b[0m\u001b[0;34m(\u001b[0m\u001b[0;34m(\u001b[0m\u001b[0;34m'A'\u001b[0m\u001b[0;34m,\u001b[0m \u001b[0;34m'B'\u001b[0m\u001b[0;34m,\u001b[0m \u001b[0;34m'C'\u001b[0m\u001b[0;34m)\u001b[0m\u001b[0;34m)\u001b[0m\u001b[0;34m\u001b[0m\u001b[0;34m\u001b[0m\u001b[0m\n",
            "\u001b[0;31mTypeError\u001b[0m: 'range' object is not callable"
          ]
        }
      ]
    },
    {
      "cell_type": "code",
      "source": [],
      "metadata": {
        "id": "gddcUU6uDPCy"
      },
      "execution_count": null,
      "outputs": []
    }
  ]
}